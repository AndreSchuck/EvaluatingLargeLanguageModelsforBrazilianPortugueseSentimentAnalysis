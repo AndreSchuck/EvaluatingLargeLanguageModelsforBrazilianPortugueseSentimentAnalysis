{
  "cells": [
    {
      "cell_type": "markdown",
      "metadata": {
        "id": "InPKrBOVi738"
      },
      "source": [
        "# Gemma-2-9B-Instruct Evaluation"
      ]
    },
    {
      "cell_type": "markdown",
      "source": [
        "Hardware - L4"
      ],
      "metadata": {
        "id": "zm6PoAD1QzUI"
      }
    },
    {
      "cell_type": "markdown",
      "source": [
        "Notebook Region"
      ],
      "metadata": {
        "id": "tAXjOatsWksI"
      }
    },
    {
      "cell_type": "code",
      "source": [
        "! curl ipinfo.io"
      ],
      "metadata": {
        "colab": {
          "base_uri": "https://localhost:8080/"
        },
        "id": "CcGBV3kkWYvW",
        "outputId": "c11094a5-174b-4608-ea20-cb8ddcedc32b"
      },
      "execution_count": null,
      "outputs": [
        {
          "output_type": "stream",
          "name": "stdout",
          "text": [
            "{\n",
            "  \"ip\": \"34.143.134.81\",\n",
            "  \"hostname\": \"81.134.143.34.bc.googleusercontent.com\",\n",
            "  \"city\": \"Singapore\",\n",
            "  \"region\": \"Singapore\",\n",
            "  \"country\": \"SG\",\n",
            "  \"loc\": \"1.2897,103.8501\",\n",
            "  \"org\": \"AS396982 Google LLC\",\n",
            "  \"postal\": \"018989\",\n",
            "  \"timezone\": \"Asia/Singapore\",\n",
            "  \"readme\": \"https://ipinfo.io/missingauth\"\n",
            "}"
          ]
        }
      ]
    },
    {
      "cell_type": "markdown",
      "metadata": {
        "id": "a5f2Ei3Ei-3d"
      },
      "source": [
        "# Installations"
      ]
    },
    {
      "cell_type": "code",
      "execution_count": null,
      "metadata": {
        "colab": {
          "base_uri": "https://localhost:8080/"
        },
        "id": "dLzGHu3VKdyh",
        "outputId": "0a7c87f5-1668-440a-93aa-576e1dc5900c"
      },
      "outputs": [
        {
          "output_type": "stream",
          "name": "stdout",
          "text": [
            "Requirement already satisfied: bitsandbytes in /usr/local/lib/python3.11/dist-packages (0.46.0)\n",
            "Requirement already satisfied: torch<3,>=2.2 in /usr/local/lib/python3.11/dist-packages (from bitsandbytes) (2.6.0+cu124)\n",
            "Requirement already satisfied: numpy>=1.17 in /usr/local/lib/python3.11/dist-packages (from bitsandbytes) (2.0.2)\n",
            "Requirement already satisfied: filelock in /usr/local/lib/python3.11/dist-packages (from torch<3,>=2.2->bitsandbytes) (3.18.0)\n",
            "Requirement already satisfied: typing-extensions>=4.10.0 in /usr/local/lib/python3.11/dist-packages (from torch<3,>=2.2->bitsandbytes) (4.13.2)\n",
            "Requirement already satisfied: networkx in /usr/local/lib/python3.11/dist-packages (from torch<3,>=2.2->bitsandbytes) (3.5)\n",
            "Requirement already satisfied: jinja2 in /usr/local/lib/python3.11/dist-packages (from torch<3,>=2.2->bitsandbytes) (3.1.6)\n",
            "Requirement already satisfied: fsspec in /usr/local/lib/python3.11/dist-packages (from torch<3,>=2.2->bitsandbytes) (2025.3.2)\n",
            "Requirement already satisfied: nvidia-cuda-nvrtc-cu12==12.4.127 in /usr/local/lib/python3.11/dist-packages (from torch<3,>=2.2->bitsandbytes) (12.4.127)\n",
            "Requirement already satisfied: nvidia-cuda-runtime-cu12==12.4.127 in /usr/local/lib/python3.11/dist-packages (from torch<3,>=2.2->bitsandbytes) (12.4.127)\n",
            "Requirement already satisfied: nvidia-cuda-cupti-cu12==12.4.127 in /usr/local/lib/python3.11/dist-packages (from torch<3,>=2.2->bitsandbytes) (12.4.127)\n",
            "Requirement already satisfied: nvidia-cudnn-cu12==9.1.0.70 in /usr/local/lib/python3.11/dist-packages (from torch<3,>=2.2->bitsandbytes) (9.1.0.70)\n",
            "Requirement already satisfied: nvidia-cublas-cu12==12.4.5.8 in /usr/local/lib/python3.11/dist-packages (from torch<3,>=2.2->bitsandbytes) (12.4.5.8)\n",
            "Requirement already satisfied: nvidia-cufft-cu12==11.2.1.3 in /usr/local/lib/python3.11/dist-packages (from torch<3,>=2.2->bitsandbytes) (11.2.1.3)\n",
            "Requirement already satisfied: nvidia-curand-cu12==10.3.5.147 in /usr/local/lib/python3.11/dist-packages (from torch<3,>=2.2->bitsandbytes) (10.3.5.147)\n",
            "Requirement already satisfied: nvidia-cusolver-cu12==11.6.1.9 in /usr/local/lib/python3.11/dist-packages (from torch<3,>=2.2->bitsandbytes) (11.6.1.9)\n",
            "Requirement already satisfied: nvidia-cusparse-cu12==12.3.1.170 in /usr/local/lib/python3.11/dist-packages (from torch<3,>=2.2->bitsandbytes) (12.3.1.170)\n",
            "Requirement already satisfied: nvidia-cusparselt-cu12==0.6.2 in /usr/local/lib/python3.11/dist-packages (from torch<3,>=2.2->bitsandbytes) (0.6.2)\n",
            "Requirement already satisfied: nvidia-nccl-cu12==2.21.5 in /usr/local/lib/python3.11/dist-packages (from torch<3,>=2.2->bitsandbytes) (2.21.5)\n",
            "Requirement already satisfied: nvidia-nvtx-cu12==12.4.127 in /usr/local/lib/python3.11/dist-packages (from torch<3,>=2.2->bitsandbytes) (12.4.127)\n",
            "Requirement already satisfied: nvidia-nvjitlink-cu12==12.4.127 in /usr/local/lib/python3.11/dist-packages (from torch<3,>=2.2->bitsandbytes) (12.4.127)\n",
            "Requirement already satisfied: triton==3.2.0 in /usr/local/lib/python3.11/dist-packages (from torch<3,>=2.2->bitsandbytes) (3.2.0)\n",
            "Requirement already satisfied: sympy==1.13.1 in /usr/local/lib/python3.11/dist-packages (from torch<3,>=2.2->bitsandbytes) (1.13.1)\n",
            "Requirement already satisfied: mpmath<1.4,>=1.1.0 in /usr/local/lib/python3.11/dist-packages (from sympy==1.13.1->torch<3,>=2.2->bitsandbytes) (1.3.0)\n",
            "Requirement already satisfied: MarkupSafe>=2.0 in /usr/local/lib/python3.11/dist-packages (from jinja2->torch<3,>=2.2->bitsandbytes) (3.0.2)\n"
          ]
        }
      ],
      "source": [
        "!pip install -U bitsandbytes"
      ]
    },
    {
      "cell_type": "markdown",
      "metadata": {
        "id": "OplyZgWdjDcg"
      },
      "source": [
        "#00 - Google Drive Mount"
      ]
    },
    {
      "cell_type": "code",
      "execution_count": null,
      "metadata": {
        "colab": {
          "base_uri": "https://localhost:8080/"
        },
        "id": "e2OmS8YJjFk4",
        "outputId": "3b24c5d6-035c-4338-95b2-e12a14bcdf41"
      },
      "outputs": [
        {
          "output_type": "stream",
          "name": "stdout",
          "text": [
            "Mounted at ./gdrive\n"
          ]
        }
      ],
      "source": [
        "from google.colab import drive\n",
        "drive.mount('./gdrive', force_remount=True)"
      ]
    },
    {
      "cell_type": "markdown",
      "metadata": {
        "id": "MwH3FsWijMf1"
      },
      "source": [
        "# 01 - Imports"
      ]
    },
    {
      "cell_type": "code",
      "execution_count": null,
      "metadata": {
        "id": "HD4wmq3sjM3t"
      },
      "outputs": [],
      "source": [
        "import os\n",
        "import glob\n",
        "import numpy as np\n",
        "import pandas as pd\n",
        "import json\n",
        "import torch\n",
        "import transformers\n",
        "import accelerate\n",
        "\n",
        "from google.colab import userdata\n",
        "from pathlib import Path\n",
        "from time import sleep\n",
        "from datetime import datetime\n",
        "from transformers import AutoTokenizer, AutoModelForCausalLM, BitsAndBytesConfig"
      ]
    },
    {
      "cell_type": "markdown",
      "metadata": {
        "id": "e8B0_VExjARi"
      },
      "source": [
        "# 02 - Constants"
      ]
    },
    {
      "cell_type": "code",
      "execution_count": null,
      "metadata": {
        "id": "FT2WF5XNjjrn"
      },
      "outputs": [],
      "source": [
        "MODEL_NAME = \"gemma2-9b\"\n",
        "\n",
        "PREPROCESSED_DATA_ROOT_PATH = userdata.get('IA_DATA_PREPROCESSED')\n",
        "STAGING_AREA_ROOT_PATH = userdata.get('IA_DATA_STAGING')\n",
        "\n",
        "HF_AUTH = userdata.get('HF_TOKEN')\n",
        "\n",
        "TEST_DATASETS = {Path(dataset).stem.split(\"_test\")[0]: {\"df\": pd.read_csv(dataset), \"path\":Path(dataset).parent} for dataset in glob.glob(f'{PREPROCESSED_DATA_ROOT_PATH}/*/*_test.csv')}\n",
        "DEMO_DATASETS = {Path(dataset).stem.split(\"_demo\")[0]: {\"df\": pd.read_csv(dataset), \"path\":Path(dataset).parent} for dataset in glob.glob(f'{PREPROCESSED_DATA_ROOT_PATH}/*/*_demo.csv')}\n",
        "RESULT_DATASETS = [Path(dataset).stem.split(f\"_{MODEL_NAME}_result_v2\")[0] for dataset in glob.glob(f'{PREPROCESSED_DATA_ROOT_PATH}/*/*_{MODEL_NAME}_result_v2.csv')]\n",
        "\n",
        "\n",
        "BASE_INSTRUCTION = \"\"\"Você deverá realizar a tarefa de Classificação de Sentimento Binária em relação a polaridade de textos escritos no idioma português brasileiro considerando dois possíveis rótulos de saída: 1 para o sentimentos positivos ou -1 para negativos. A saída produzida deverá ser em formato JSON, seguindo o esquema definido entre os marcadores ```.```\n",
        "{'type': 'object','description': Objeto de saída fornecido pelo classificador após a classificação de sentimento do texto de entrada.', 'properties': {'polaridade': {'type': 'integer','description': 'Polaridade em relação ao sentimento expressado no texto de entrada. Pode assumir 2 valores: [-1, 1]','enum': [-1,1]}},\n",
        "  'required': ['polaridade']}```Considere os seguintes exemplos para realizar a predição:\"\"\""
      ]
    },
    {
      "cell_type": "markdown",
      "metadata": {
        "id": "vH7rdn-nvORF"
      },
      "source": [
        "# 03 - Functions"
      ]
    },
    {
      "cell_type": "code",
      "execution_count": null,
      "metadata": {
        "id": "733srlwQvOYH"
      },
      "outputs": [],
      "source": [
        "def generate_sorted_examples(dataframe:pd.DataFrame)->str:\n",
        "    \"\"\"\n",
        "    Generate a string of sorted examples from a DataFrame for sentiment analysis.\n",
        "\n",
        "    Args:\n",
        "        dataframe (pd.DataFrame): The DataFrame containing the examples.\n",
        "                                  It should have columns 'text' and 'label'.\n",
        "\n",
        "    Returns:\n",
        "        str: A string containing formatted examples of input text and their corresponding polarities.\n",
        "    \"\"\"\n",
        "    examples = ''\n",
        "    for i, _ in enumerate(dataframe[:3].index):\n",
        "        examples = examples + (\n",
        "        \"\\n\"\n",
        "        f\"Exemplo:\\n\"\n",
        "        f\"'entrada': '{dataframe['text'][i]}'\\n\"\n",
        "        \"'saida':{'polaridade': \" + f\"{dataframe['label'][i]}\"+\"}\"\n",
        "        \"\\n\"\n",
        "        f\"Exemplo:\\n\"\n",
        "        f\"'entrada': '{dataframe['text'][i+3]}'\\n\"\n",
        "        \"'saida':{'polaridade': \" + f\"{dataframe['label'][i+3]}\"+\"}\")\n",
        "    return examples\n",
        "\n",
        "\n",
        "def generate_classification_text(text:str)->str:\n",
        "    \"\"\"\n",
        "    Generate a formatted string for sentiment classification input and output.\n",
        "\n",
        "    Args:\n",
        "        text (str): The input text to be classified.\n",
        "\n",
        "    Returns:\n",
        "        str: A string formatted for sentiment classification showing the input text.\n",
        "    \"\"\"\n",
        "    classification = (\n",
        "        \"\\n\"\n",
        "        f\"Classificação de Sentimento:\"\n",
        "        f\"'entrada': '{text}'\"\n",
        "        \"'saida':\")\n",
        "    return classification\n",
        "\n",
        "\n",
        "def generate_staging_area_csv_file_name(model_name:str, dataset_name:str, fist_index:int, last_index:int)->str:\n",
        "    \"\"\"\n",
        "    Generate a staging area file name for a specific model and dataset.\n",
        "    \"\"\"\n",
        "    file_name = f'{dataset_name}_{model_name}_{fist_index}-{last_index}_v2.csv'\n",
        "    return file_name\n",
        "\n",
        "def get_staging_area_files_by_model_or_dataset_name(model_name:str=None, dataset_name:str=None)->list[Path]:\n",
        "    \"\"\"\n",
        "    Get a sorted list of staging area files for a specific model and/or dataset.\n",
        "    \"\"\"\n",
        "    if model_name != None and dataset_name != None:\n",
        "        files =  [Path(csv_file) for csv_file in glob.glob(f'{STAGING_AREA_ROOT_PATH}/{dataset_name}_{model_name}_*.csv')]\n",
        "    elif model_name != None:\n",
        "        files =  [Path(csv_file) for csv_file in glob.glob(f'{STAGING_AREA_ROOT_PATH}/*_{model_name}_*.csv')]\n",
        "    elif dataset_name != None:\n",
        "        files =  [Path(csv_file) for csv_file in glob.glob(f'{STAGING_AREA_ROOT_PATH}/{dataset_name}_*.csv')]\n",
        "    else:\n",
        "        raise ValueError('Either model_name or dataset_name must be provided.')\n",
        "    return sorted(files, key=lambda x: int(((str(x.absolute()).split('-')[-1]).split('.')[0]).split(\"_v\")[0]))\n",
        "\n",
        "def get_last_staging_area_file_content_index(model_name:str=None, dataset_name:str=None)->int:\n",
        "    \"\"\"\n",
        "    Get the index of the last staging area file for a specific model and dataset.\n",
        "    \"\"\"\n",
        "    if model_name and dataset_name:\n",
        "        files = get_staging_area_files_by_model_or_dataset_name(model_name=model_name, dataset_name=dataset_name)\n",
        "\n",
        "    elif model_name:\n",
        "        files = get_staging_area_files_by_model_or_dataset_name(model_name=model_name)\n",
        "\n",
        "    else:\n",
        "        files = get_staging_area_files_by_model_or_dataset_name(dataset_name=dataset_name)\n",
        "    if len(files) == 0:\n",
        "        return None\n",
        "\n",
        "    last_file = str(files[-1].absolute())\n",
        "    last_file_index_name = int((last_file.split('_')[-2]).split('.')[0].split('-')[-1])\n",
        "    return last_file_index_name\n",
        "\n",
        "def save_csv_to_staging_area(model_name:str, dataset_name:str, results_list:list)->Path:\n",
        "    \"\"\"\n",
        "    Save a CSV file to the staging area.\n",
        "    \"\"\"\n",
        "    sorted_result_list = sorted(results_list, key=lambda x: x[0])\n",
        "    first_index = sorted_result_list[0][0]\n",
        "    last_index = sorted_result_list[-1][0]\n",
        "    file_name = generate_staging_area_csv_file_name(\n",
        "        model_name=model_name,\n",
        "        dataset_name=dataset_name,\n",
        "        fist_index=first_index,\n",
        "        last_index=last_index\n",
        "        )\n",
        "\n",
        "    file_path = f'{STAGING_AREA_ROOT_PATH}{file_name}'\n",
        "    df = pd.DataFrame(results_list, columns=['index','predictions','inferece_time', 'input_tokens', 'output_tokens'])\n",
        "    df.to_csv(file_path)\n",
        "    print(f'File containing index {first_index} to {last_index} for dataset {dataset_name} and model {model_name} created at {file_path} with success.')\n",
        "    return Path(file_path +\".csv\")\n",
        "\n",
        "\n",
        "def convert_csv_in_staging_area_to_dataframe(list_of_files:list[Path])->pd.DataFrame:\n",
        "    \"\"\"\n",
        "    Convert a list of CSV files in the staging area to a single DataFrame.\n",
        "    \"\"\"\n",
        "\n",
        "    df = pd.DataFrame(columns=[\"Unmatch: 0\", \"index\", \"predictions\", \"inferece_time\", \"input_tokens\", \"output_tokens\"])\n",
        "    for file in list_of_files:\n",
        "        temp_df = pd.read_csv(file)\n",
        "        df = pd.concat([df, temp_df])\n",
        "\n",
        "    df = df.sort_values(by='index')\n",
        "    df = df.drop_duplicates(subset=['index'])\n",
        "    df = df.reset_index(drop=True).set_index('index')\n",
        "    df = df[['predictions']]\n",
        "    return df"
      ]
    },
    {
      "cell_type": "markdown",
      "metadata": {
        "id": "nqsp1CelvUMT"
      },
      "source": [
        "# 04 - Execution"
      ]
    },
    {
      "cell_type": "code",
      "execution_count": null,
      "metadata": {
        "colab": {
          "base_uri": "https://localhost:8080/",
          "referenced_widgets": [
            "b7c8cfbc63944f54bde68c3a7e5cd28b",
            "55697c4c00cb4d1cbeac9e3f221287b9",
            "5a222e132f2742beab21eb2213c719da",
            "95297a657ccb4fb7a65444cf0daf5edf",
            "486904c3d8c54401b71dbd012dc73ba4",
            "e49d7c5e3c3c40bb91001a329a3b5326",
            "083612fd984a4b60af35311c941ae92a",
            "fac5b9984402498f94cf0ac775ef55f3",
            "2213662b4f3848239182545cf9f9db64",
            "b720ab625dc547fba093c600bcce740e",
            "8949058814ac401fafc602d4d4e2d8c2"
          ],
          "height": 535
        },
        "id": "nhVyxMCbleSj",
        "outputId": "8c460029-bceb-4ec8-9881-fe9f2f90a4b0"
      },
      "outputs": [
        {
          "output_type": "display_data",
          "data": {
            "text/plain": [
              "Loading checkpoint shards:   0%|          | 0/4 [00:00<?, ?it/s]"
            ],
            "application/vnd.jupyter.widget-view+json": {
              "version_major": 2,
              "version_minor": 0,
              "model_id": "b7c8cfbc63944f54bde68c3a7e5cd28b"
            }
          },
          "metadata": {}
        },
        {
          "output_type": "execute_result",
          "data": {
            "text/plain": [
              "Gemma2ForCausalLM(\n",
              "  (model): Gemma2Model(\n",
              "    (embed_tokens): Embedding(256000, 3584, padding_idx=0)\n",
              "    (layers): ModuleList(\n",
              "      (0-41): 42 x Gemma2DecoderLayer(\n",
              "        (self_attn): Gemma2Attention(\n",
              "          (q_proj): Linear4bit(in_features=3584, out_features=4096, bias=False)\n",
              "          (k_proj): Linear4bit(in_features=3584, out_features=2048, bias=False)\n",
              "          (v_proj): Linear4bit(in_features=3584, out_features=2048, bias=False)\n",
              "          (o_proj): Linear4bit(in_features=4096, out_features=3584, bias=False)\n",
              "        )\n",
              "        (mlp): Gemma2MLP(\n",
              "          (gate_proj): Linear4bit(in_features=3584, out_features=14336, bias=False)\n",
              "          (up_proj): Linear4bit(in_features=3584, out_features=14336, bias=False)\n",
              "          (down_proj): Linear4bit(in_features=14336, out_features=3584, bias=False)\n",
              "          (act_fn): PytorchGELUTanh()\n",
              "        )\n",
              "        (input_layernorm): Gemma2RMSNorm((3584,), eps=1e-06)\n",
              "        (post_attention_layernorm): Gemma2RMSNorm((3584,), eps=1e-06)\n",
              "        (pre_feedforward_layernorm): Gemma2RMSNorm((3584,), eps=1e-06)\n",
              "        (post_feedforward_layernorm): Gemma2RMSNorm((3584,), eps=1e-06)\n",
              "      )\n",
              "    )\n",
              "    (norm): Gemma2RMSNorm((3584,), eps=1e-06)\n",
              "    (rotary_emb): Gemma2RotaryEmbedding()\n",
              "  )\n",
              "  (lm_head): Linear(in_features=3584, out_features=256000, bias=False)\n",
              ")"
            ]
          },
          "metadata": {},
          "execution_count": 46
        }
      ],
      "source": [
        "quantization_config = BitsAndBytesConfig(load_in_4bit=True)\n",
        "\n",
        "tokenizer = AutoTokenizer.from_pretrained(\"google/gemma-2-9b-it\")\n",
        "\n",
        "model = AutoModelForCausalLM.from_pretrained(\n",
        "    \"google/gemma-2-9b-it\",\n",
        "    quantization_config=quantization_config)\n",
        "\n",
        "model.eval()"
      ]
    },
    {
      "cell_type": "code",
      "source": [
        "generate_text = transformers.pipeline(\n",
        "    model=model,\n",
        "    tokenizer=tokenizer,\n",
        "    task='text-generation',\n",
        "    trust_remote_code=True)"
      ],
      "metadata": {
        "colab": {
          "base_uri": "https://localhost:8080/"
        },
        "id": "q23BGU-dUdRJ",
        "outputId": "2123a3e2-cfed-4474-c3db-6b7fede7ef16"
      },
      "execution_count": null,
      "outputs": [
        {
          "output_type": "stream",
          "name": "stderr",
          "text": [
            "Device set to use cuda:0\n"
          ]
        }
      ]
    },
    {
      "cell_type": "code",
      "source": [
        "for key, dataset in TEST_DATASETS.items():\n",
        "    if key not in RESULT_DATASETS:\n",
        "        print(f'Starting to evaluate dataset: {key}')\n",
        "        results_list = []\n",
        "        examples = generate_sorted_examples(DEMO_DATASETS[key]['df'])\n",
        "        instruction = BASE_INSTRUCTION + examples\n",
        "\n",
        "        first_index = get_last_staging_area_file_content_index(dataset_name=key, model_name=MODEL_NAME)\n",
        "        if first_index == None:\n",
        "            first_index = 0\n",
        "            print(f\"No file were found for the current dataset and model, starting from index 0\")\n",
        "\n",
        "        else:\n",
        "            first_index += 1\n",
        "            print(f\"One or more files were found. Starting from lastest index found ({first_index}) for dataset {key}\")\n",
        "\n",
        "        for index, item in dataset[\"df\"][\"text\"][first_index:].items():\n",
        "            classification_text = generate_classification_text(item)\n",
        "\n",
        "            input_text_length = len(tokenizer.encode(instruction + classification_text))\n",
        "\n",
        "            inference_start_time = datetime.now()\n",
        "\n",
        "            prediction = generate_text(instruction + classification_text,\n",
        "                                do_sample=False,\n",
        "                                max_new_tokens=20)\n",
        "\n",
        "            inference_end_time = datetime.now()\n",
        "\n",
        "            inference_time = inference_end_time - inference_start_time\n",
        "            output_text_legth = len(tokenizer.encode(prediction[0][\"generated_text\"]))\n",
        "\n",
        "            results_list.append((index,\n",
        "                                 prediction[0][\"generated_text\"].split(\"''saida':\")[-1],\n",
        "                                 inference_time,\n",
        "                                 input_text_length,\n",
        "                                 output_text_legth))\n",
        "            print((index, prediction[0][\"generated_text\"].split(\"''saida':\")[-1]), inference_time, input_text_length, output_text_legth)\n",
        "\n",
        "            if len(results_list) % 100 == 0:\n",
        "                save_csv_to_staging_area(model_name=MODEL_NAME,\n",
        "                                         dataset_name=key,\n",
        "                                         results_list=results_list)\n",
        "\n",
        "\n",
        "        save_csv_to_staging_area(model_name=MODEL_NAME,\n",
        "                                 dataset_name=key,\n",
        "                                 results_list=results_list)\n",
        "\n",
        "\n",
        "\n",
        "        if len(results_list) != (dataset[\"df\"].shape[0]):\n",
        "            df = convert_csv_in_staging_area_to_dataframe(\n",
        "                get_staging_area_files_by_model_or_dataset_name(dataset_name=key, model_name=MODEL_NAME)\n",
        "                )\n",
        "\n",
        "            if df.shape[0] == dataset[\"df\"].shape[0]:\n",
        "                dataset[\"df\"][\"predictions\"] = df[\"predictions\"]\n",
        "\n",
        "        elif len(results_list) == (dataset[\"df\"].shape[0]):\n",
        "            dataset[\"df\"][\"predictions\"] = np.array(results_list)[:,1]\n",
        "\n",
        "        else:\n",
        "            raise ValueError(\"The number of results is different from the number of rows in the dataset.\")\n",
        "\n",
        "        dataset[\"df\"].to_csv(f'{str(dataset[\"path\"])}/{key}_{MODEL_NAME}_result_v2.csv', index=False)\n",
        "        RESULT_DATASETS = [Path(dataset).stem.split(f\"_{MODEL_NAME}_result_v2\")[0] for dataset in glob.glob(f\"{PREPROCESSED_DATA_ROOT_PATH}/*/*_{MODEL_NAME}_result_v2.csv\")]\n",
        "        print(f\"The evaluation of dataset:{key} has ended.\")"
      ],
      "metadata": {
        "id": "yJyvYvWYUrot"
      },
      "execution_count": null,
      "outputs": []
    }
  ],
  "metadata": {
    "accelerator": "GPU",
    "colab": {
      "gpuType": "L4",
      "provenance": []
    },
    "kernelspec": {
      "display_name": "Python 3",
      "name": "python3"
    },
    "language_info": {
      "name": "python"
    },
    "widgets": {
      "application/vnd.jupyter.widget-state+json": {
        "b7c8cfbc63944f54bde68c3a7e5cd28b": {
          "model_module": "@jupyter-widgets/controls",
          "model_name": "HBoxModel",
          "model_module_version": "1.5.0",
          "state": {
            "_dom_classes": [],
            "_model_module": "@jupyter-widgets/controls",
            "_model_module_version": "1.5.0",
            "_model_name": "HBoxModel",
            "_view_count": null,
            "_view_module": "@jupyter-widgets/controls",
            "_view_module_version": "1.5.0",
            "_view_name": "HBoxView",
            "box_style": "",
            "children": [
              "IPY_MODEL_55697c4c00cb4d1cbeac9e3f221287b9",
              "IPY_MODEL_5a222e132f2742beab21eb2213c719da",
              "IPY_MODEL_95297a657ccb4fb7a65444cf0daf5edf"
            ],
            "layout": "IPY_MODEL_486904c3d8c54401b71dbd012dc73ba4"
          }
        },
        "55697c4c00cb4d1cbeac9e3f221287b9": {
          "model_module": "@jupyter-widgets/controls",
          "model_name": "HTMLModel",
          "model_module_version": "1.5.0",
          "state": {
            "_dom_classes": [],
            "_model_module": "@jupyter-widgets/controls",
            "_model_module_version": "1.5.0",
            "_model_name": "HTMLModel",
            "_view_count": null,
            "_view_module": "@jupyter-widgets/controls",
            "_view_module_version": "1.5.0",
            "_view_name": "HTMLView",
            "description": "",
            "description_tooltip": null,
            "layout": "IPY_MODEL_e49d7c5e3c3c40bb91001a329a3b5326",
            "placeholder": "​",
            "style": "IPY_MODEL_083612fd984a4b60af35311c941ae92a",
            "value": "Loading checkpoint shards: 100%"
          }
        },
        "5a222e132f2742beab21eb2213c719da": {
          "model_module": "@jupyter-widgets/controls",
          "model_name": "FloatProgressModel",
          "model_module_version": "1.5.0",
          "state": {
            "_dom_classes": [],
            "_model_module": "@jupyter-widgets/controls",
            "_model_module_version": "1.5.0",
            "_model_name": "FloatProgressModel",
            "_view_count": null,
            "_view_module": "@jupyter-widgets/controls",
            "_view_module_version": "1.5.0",
            "_view_name": "ProgressView",
            "bar_style": "success",
            "description": "",
            "description_tooltip": null,
            "layout": "IPY_MODEL_fac5b9984402498f94cf0ac775ef55f3",
            "max": 4,
            "min": 0,
            "orientation": "horizontal",
            "style": "IPY_MODEL_2213662b4f3848239182545cf9f9db64",
            "value": 4
          }
        },
        "95297a657ccb4fb7a65444cf0daf5edf": {
          "model_module": "@jupyter-widgets/controls",
          "model_name": "HTMLModel",
          "model_module_version": "1.5.0",
          "state": {
            "_dom_classes": [],
            "_model_module": "@jupyter-widgets/controls",
            "_model_module_version": "1.5.0",
            "_model_name": "HTMLModel",
            "_view_count": null,
            "_view_module": "@jupyter-widgets/controls",
            "_view_module_version": "1.5.0",
            "_view_name": "HTMLView",
            "description": "",
            "description_tooltip": null,
            "layout": "IPY_MODEL_b720ab625dc547fba093c600bcce740e",
            "placeholder": "​",
            "style": "IPY_MODEL_8949058814ac401fafc602d4d4e2d8c2",
            "value": " 4/4 [00:19&lt;00:00,  4.95s/it]"
          }
        },
        "486904c3d8c54401b71dbd012dc73ba4": {
          "model_module": "@jupyter-widgets/base",
          "model_name": "LayoutModel",
          "model_module_version": "1.2.0",
          "state": {
            "_model_module": "@jupyter-widgets/base",
            "_model_module_version": "1.2.0",
            "_model_name": "LayoutModel",
            "_view_count": null,
            "_view_module": "@jupyter-widgets/base",
            "_view_module_version": "1.2.0",
            "_view_name": "LayoutView",
            "align_content": null,
            "align_items": null,
            "align_self": null,
            "border": null,
            "bottom": null,
            "display": null,
            "flex": null,
            "flex_flow": null,
            "grid_area": null,
            "grid_auto_columns": null,
            "grid_auto_flow": null,
            "grid_auto_rows": null,
            "grid_column": null,
            "grid_gap": null,
            "grid_row": null,
            "grid_template_areas": null,
            "grid_template_columns": null,
            "grid_template_rows": null,
            "height": null,
            "justify_content": null,
            "justify_items": null,
            "left": null,
            "margin": null,
            "max_height": null,
            "max_width": null,
            "min_height": null,
            "min_width": null,
            "object_fit": null,
            "object_position": null,
            "order": null,
            "overflow": null,
            "overflow_x": null,
            "overflow_y": null,
            "padding": null,
            "right": null,
            "top": null,
            "visibility": null,
            "width": null
          }
        },
        "e49d7c5e3c3c40bb91001a329a3b5326": {
          "model_module": "@jupyter-widgets/base",
          "model_name": "LayoutModel",
          "model_module_version": "1.2.0",
          "state": {
            "_model_module": "@jupyter-widgets/base",
            "_model_module_version": "1.2.0",
            "_model_name": "LayoutModel",
            "_view_count": null,
            "_view_module": "@jupyter-widgets/base",
            "_view_module_version": "1.2.0",
            "_view_name": "LayoutView",
            "align_content": null,
            "align_items": null,
            "align_self": null,
            "border": null,
            "bottom": null,
            "display": null,
            "flex": null,
            "flex_flow": null,
            "grid_area": null,
            "grid_auto_columns": null,
            "grid_auto_flow": null,
            "grid_auto_rows": null,
            "grid_column": null,
            "grid_gap": null,
            "grid_row": null,
            "grid_template_areas": null,
            "grid_template_columns": null,
            "grid_template_rows": null,
            "height": null,
            "justify_content": null,
            "justify_items": null,
            "left": null,
            "margin": null,
            "max_height": null,
            "max_width": null,
            "min_height": null,
            "min_width": null,
            "object_fit": null,
            "object_position": null,
            "order": null,
            "overflow": null,
            "overflow_x": null,
            "overflow_y": null,
            "padding": null,
            "right": null,
            "top": null,
            "visibility": null,
            "width": null
          }
        },
        "083612fd984a4b60af35311c941ae92a": {
          "model_module": "@jupyter-widgets/controls",
          "model_name": "DescriptionStyleModel",
          "model_module_version": "1.5.0",
          "state": {
            "_model_module": "@jupyter-widgets/controls",
            "_model_module_version": "1.5.0",
            "_model_name": "DescriptionStyleModel",
            "_view_count": null,
            "_view_module": "@jupyter-widgets/base",
            "_view_module_version": "1.2.0",
            "_view_name": "StyleView",
            "description_width": ""
          }
        },
        "fac5b9984402498f94cf0ac775ef55f3": {
          "model_module": "@jupyter-widgets/base",
          "model_name": "LayoutModel",
          "model_module_version": "1.2.0",
          "state": {
            "_model_module": "@jupyter-widgets/base",
            "_model_module_version": "1.2.0",
            "_model_name": "LayoutModel",
            "_view_count": null,
            "_view_module": "@jupyter-widgets/base",
            "_view_module_version": "1.2.0",
            "_view_name": "LayoutView",
            "align_content": null,
            "align_items": null,
            "align_self": null,
            "border": null,
            "bottom": null,
            "display": null,
            "flex": null,
            "flex_flow": null,
            "grid_area": null,
            "grid_auto_columns": null,
            "grid_auto_flow": null,
            "grid_auto_rows": null,
            "grid_column": null,
            "grid_gap": null,
            "grid_row": null,
            "grid_template_areas": null,
            "grid_template_columns": null,
            "grid_template_rows": null,
            "height": null,
            "justify_content": null,
            "justify_items": null,
            "left": null,
            "margin": null,
            "max_height": null,
            "max_width": null,
            "min_height": null,
            "min_width": null,
            "object_fit": null,
            "object_position": null,
            "order": null,
            "overflow": null,
            "overflow_x": null,
            "overflow_y": null,
            "padding": null,
            "right": null,
            "top": null,
            "visibility": null,
            "width": null
          }
        },
        "2213662b4f3848239182545cf9f9db64": {
          "model_module": "@jupyter-widgets/controls",
          "model_name": "ProgressStyleModel",
          "model_module_version": "1.5.0",
          "state": {
            "_model_module": "@jupyter-widgets/controls",
            "_model_module_version": "1.5.0",
            "_model_name": "ProgressStyleModel",
            "_view_count": null,
            "_view_module": "@jupyter-widgets/base",
            "_view_module_version": "1.2.0",
            "_view_name": "StyleView",
            "bar_color": null,
            "description_width": ""
          }
        },
        "b720ab625dc547fba093c600bcce740e": {
          "model_module": "@jupyter-widgets/base",
          "model_name": "LayoutModel",
          "model_module_version": "1.2.0",
          "state": {
            "_model_module": "@jupyter-widgets/base",
            "_model_module_version": "1.2.0",
            "_model_name": "LayoutModel",
            "_view_count": null,
            "_view_module": "@jupyter-widgets/base",
            "_view_module_version": "1.2.0",
            "_view_name": "LayoutView",
            "align_content": null,
            "align_items": null,
            "align_self": null,
            "border": null,
            "bottom": null,
            "display": null,
            "flex": null,
            "flex_flow": null,
            "grid_area": null,
            "grid_auto_columns": null,
            "grid_auto_flow": null,
            "grid_auto_rows": null,
            "grid_column": null,
            "grid_gap": null,
            "grid_row": null,
            "grid_template_areas": null,
            "grid_template_columns": null,
            "grid_template_rows": null,
            "height": null,
            "justify_content": null,
            "justify_items": null,
            "left": null,
            "margin": null,
            "max_height": null,
            "max_width": null,
            "min_height": null,
            "min_width": null,
            "object_fit": null,
            "object_position": null,
            "order": null,
            "overflow": null,
            "overflow_x": null,
            "overflow_y": null,
            "padding": null,
            "right": null,
            "top": null,
            "visibility": null,
            "width": null
          }
        },
        "8949058814ac401fafc602d4d4e2d8c2": {
          "model_module": "@jupyter-widgets/controls",
          "model_name": "DescriptionStyleModel",
          "model_module_version": "1.5.0",
          "state": {
            "_model_module": "@jupyter-widgets/controls",
            "_model_module_version": "1.5.0",
            "_model_name": "DescriptionStyleModel",
            "_view_count": null,
            "_view_module": "@jupyter-widgets/base",
            "_view_module_version": "1.2.0",
            "_view_name": "StyleView",
            "description_width": ""
          }
        }
      }
    }
  },
  "nbformat": 4,
  "nbformat_minor": 0
}